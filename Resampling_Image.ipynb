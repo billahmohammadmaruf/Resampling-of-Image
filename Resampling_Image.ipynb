{
 "cells": [
  {
   "cell_type": "markdown",
   "id": "db608274",
   "metadata": {},
   "source": [
    "### Resampling of Image"
   ]
  },
  {
   "cell_type": "code",
   "execution_count": 1,
   "id": "838ed305",
   "metadata": {},
   "outputs": [],
   "source": [
    "import os\n",
    "import rasterio\n",
    "from rasterio.enums import Resampling\n",
    "\n",
    "# Open the original image\n",
    "with rasterio.open(r'D:\\REV2\\brookings_clip2_tex2.tif') as dataset:\n",
    "    # Calculate the new shape: If ori res is 2cm, and if we want resample to 20cm then downscale by 5 since 20cm/2cm = 10cm), \n",
    "    # brookings ori res:1.89cm, brookings new res divide by 15.87;   winner ori res:2.513 cm, winner divide by 11.95 \n",
    "    new_width = int(dataset.width / 15.87)\n",
    "    new_height = int(dataset.height / 15.87)\n",
    "    \n",
    "    # Define the new transform and update the metadata\n",
    "    new_transform = dataset.transform * dataset.transform.scale(\n",
    "        (dataset.width / new_width),\n",
    "        (dataset.height / new_height)\n",
    "    )\n",
    "    \n",
    "    new_meta = dataset.meta.copy()\n",
    "    new_meta.update({\n",
    "        'width': new_width,\n",
    "        'height': new_height,\n",
    "        'transform': new_transform\n",
    "    })\n",
    "    \n",
    "    # Resample the image\n",
    "    with rasterio.open(r'D:\\REV2\\brookings_clip2_tex2_resampled_30cm.tif', 'w', **new_meta) as dst:\n",
    "        for i in range(1, dataset.count + 1):\n",
    "            dst.write(\n",
    "                dataset.read(i, out_shape=(new_height, new_width),\n",
    "                resampling=Resampling.bilinear), i\n",
    "            )\n"
   ]
  }
 ],
 "metadata": {
  "kernelspec": {
   "display_name": "Python 3 (ipykernel)",
   "language": "python",
   "name": "python3"
  },
  "language_info": {
   "codemirror_mode": {
    "name": "ipython",
    "version": 3
   },
   "file_extension": ".py",
   "mimetype": "text/x-python",
   "name": "python",
   "nbconvert_exporter": "python",
   "pygments_lexer": "ipython3",
   "version": "3.10.4"
  }
 },
 "nbformat": 4,
 "nbformat_minor": 5
}
